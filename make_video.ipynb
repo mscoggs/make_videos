{
 "cells": [
  {
   "cell_type": "code",
   "execution_count": 3,
   "id": "f3926008",
   "metadata": {},
   "outputs": [
    {
     "name": "stdout",
     "output_type": "stream",
     "text": [
      "C:\\Users\\Matthew\\Dropbox\\github_repos\\smbh_crtitical_times\\collision_figures\n"
     ]
    }
   ],
   "source": [
    "import matplotlib.pyplot as plt\n",
    "import matplotlib.animation as animation\n",
    "import matplotlib.cm as cm\n",
    "import os\n",
    "import glob\n",
    "import io\n",
    "import fitz\n",
    "from PIL import Image\n",
    "\n",
    "#plt.rcParams['savefig.bbox'] = 'tight'     # tight garbles the video!!!\n",
    "plt.rcParams.update(plt.rcParamsDefault)\n",
    "\n",
    "def generate_video():\n",
    "    print(os.getcwd())\n",
    "    \n",
    "    path = \"C:/Users/Matthew/Dropbox/github_repos/smbh_crtitical_times/collision_figures/\"\n",
    "    path2 = \"C:/Users/Matth/Dropbox/github_repos/smbh_crtitical_times/collision_figures/\"\n",
    "    os.chdir(path)\n",
    "    imgs = glob.glob(\"*.pdf\") # some array of images\n",
    "    #imgs = imgs[0:3]\n",
    "    frames = [] # for storing the generated images\n",
    "\n",
    "\n",
    "    for x in range(len(imgs)):\n",
    "        pdf_file = fitz.open(imgs[x])\n",
    "        for page_number in range(len(pdf_file)):\n",
    "            page = pdf_file[page_number]\n",
    "            rgb = page.get_pixmap()\n",
    "            pil_image = Image.open(io.BytesIO(rgb.tobytes())).convert('RGB')\n",
    "            imgs[x] = pil_image\n",
    "\n",
    "    fig = plt.figure(frameon=False)\n",
    "    fig.set_size_inches(25,11)\n",
    "\n",
    "    \n",
    "    ax = plt.Axes(fig, [0., 0., 1., 1.])\n",
    "    ax.set_axis_off()\n",
    "    fig.add_axes(ax)\n",
    "\n",
    "    for i in range(len(imgs)):\n",
    "        frames.append([plt.imshow(imgs[i], cmap=cm.Greys_r,animated=True, aspect='auto')])\n",
    "\n",
    "    ani = animation.ArtistAnimation(fig, frames, interval=500, blit=True)\n",
    "    ani.save('collision.mp4',  dpi=200)\n",
    "                    \n",
    "    \n",
    "generate_video()"
   ]
  },
  {
   "cell_type": "code",
   "execution_count": null,
   "id": "473fba2b",
   "metadata": {},
   "outputs": [],
   "source": []
  }
 ],
 "metadata": {
  "kernelspec": {
   "display_name": "Python 3",
   "language": "python",
   "name": "python3"
  },
  "language_info": {
   "codemirror_mode": {
    "name": "ipython",
    "version": 3
   },
   "file_extension": ".py",
   "mimetype": "text/x-python",
   "name": "python",
   "nbconvert_exporter": "python",
   "pygments_lexer": "ipython3",
   "version": "3.8.8"
  }
 },
 "nbformat": 4,
 "nbformat_minor": 5
}
