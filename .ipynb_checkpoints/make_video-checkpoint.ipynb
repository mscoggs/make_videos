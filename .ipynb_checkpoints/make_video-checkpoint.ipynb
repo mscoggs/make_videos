{
 "cells": [
  {
   "cell_type": "code",
   "execution_count": null,
   "id": "e94cea15",
   "metadata": {},
   "outputs": [],
   "source": [
    "import os\n",
    "\n",
    "def generate_video(img):\n",
    "    path = \"../smbh_critical_times/figures/figures\"\n",
    "    os.chdir(path)\n",
    "    subprocess.call([\n",
    "        'ffmpeg', '-framerate', '8', '-i', '', '-r', '30', '-pix_fmt', 'yuv420p',\n",
    "        'video_name.mp4'\n",
    "    ])\n",
    "    for file_name in glob.glob(\"*.pdf\"):\n",
    "        os.remove(file_name)"
   ]
  },
  {
   "cell_type": "code",
   "execution_count": null,
   "id": "46ddd4c0",
   "metadata": {},
   "outputs": [],
   "source": [
    "### old gif maker\n",
    "def make_videos(dir_):\n",
    "    combined_plots = glob(dir_ + \"/figures/combined_plots/*.pdf\")\n",
    "    \n",
    "    index = []\n",
    "    for item in combined_plots: \n",
    "        index.append(float(((item.split(\"\\\\\")[-1]).split(\".pdf\")[0]).split(\"_\")[0]))\n",
    "        \n",
    "    combined_plots = np.array(combined_plots)[np.argsort(index)]\n",
    "\n",
    "    path = dir_ + \"/videos/\"\n",
    "    if not os.path.exists(path): os.makedirs(path)  \n",
    "       \n",
    "    c_plots = []\n",
    "    for c_plot in combined_plots:\n",
    "        c_plots.append(imageio.imread(c_plot))\n",
    "    imageio.mimsave(dir_ + 'videos/combined.gif', c_plots, duration = 5/(len(combined_plots)))"
   ]
  }
 ],
 "metadata": {
  "kernelspec": {
   "display_name": "Python 3",
   "language": "python",
   "name": "python3"
  },
  "language_info": {
   "codemirror_mode": {
    "name": "ipython",
    "version": 3
   },
   "file_extension": ".py",
   "mimetype": "text/x-python",
   "name": "python",
   "nbconvert_exporter": "python",
   "pygments_lexer": "ipython3",
   "version": "3.8.8"
  }
 },
 "nbformat": 4,
 "nbformat_minor": 5
}
